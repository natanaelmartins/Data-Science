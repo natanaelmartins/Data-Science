{
 "cells": [
  {
   "cell_type": "markdown",
   "id": "0844b553",
   "metadata": {},
   "source": [
    "## Análise de dados de COVID-19 em Toronto"
   ]
  },
  {
   "cell_type": "markdown",
   "id": "4ce6da8f",
   "metadata": {},
   "source": [
    "<b> Seguindo a metodologia CRISP-DM </b>"
   ]
  },
  {
   "cell_type": "markdown",
   "id": "97bf8b5d",
   "metadata": {},
   "source": [
    "<b> 1. Entendimento do negócio </b>"
   ]
  },
  {
   "cell_type": "markdown",
   "id": "cc2a3c23",
   "metadata": {},
   "source": [
    "O dataset traz informações sobre os casos de COVID registrados na cidade de Toronto, no Canadá. O objetivo desta análise é identificar padrões relacionados a infecção pelo vírus que podem ser úteis na prevenção de novos casos. \"Os dados analisados aqui foram retirados do Ministério da Saúde do Canadá\""
   ]
  },
  {
   "cell_type": "markdown",
   "id": "828d57b4",
   "metadata": {},
   "source": [
    "<b> 2. Entendimento dos dados </b>"
   ]
  },
  {
   "cell_type": "markdown",
   "id": "a709b885",
   "metadata": {},
   "source": [
    "<b> 2.1 Coleta de dados </b>"
   ]
  },
  {
   "cell_type": "code",
   "execution_count": 2,
   "id": "736b39d8",
   "metadata": {},
   "outputs": [
    {
     "data": {
      "text/html": [
       "<div>\n",
       "<style scoped>\n",
       "    .dataframe tbody tr th:only-of-type {\n",
       "        vertical-align: middle;\n",
       "    }\n",
       "\n",
       "    .dataframe tbody tr th {\n",
       "        vertical-align: top;\n",
       "    }\n",
       "\n",
       "    .dataframe thead th {\n",
       "        text-align: right;\n",
       "    }\n",
       "</style>\n",
       "<table border=\"1\" class=\"dataframe\">\n",
       "  <thead>\n",
       "    <tr style=\"text-align: right;\">\n",
       "      <th></th>\n",
       "      <th>_id</th>\n",
       "      <th>Outbreak Associated</th>\n",
       "      <th>Age Group</th>\n",
       "      <th>Neighbourhood Name</th>\n",
       "      <th>FSA</th>\n",
       "      <th>Source of Infection</th>\n",
       "      <th>Classification</th>\n",
       "      <th>Episode Date</th>\n",
       "      <th>Reported Date</th>\n",
       "      <th>Client Gender</th>\n",
       "      <th>Outcome</th>\n",
       "      <th>Currently Hospitalized</th>\n",
       "      <th>Currently in ICU</th>\n",
       "      <th>Currently Intubated</th>\n",
       "      <th>Ever Hospitalized</th>\n",
       "      <th>Ever in ICU</th>\n",
       "      <th>Ever Intubated</th>\n",
       "    </tr>\n",
       "  </thead>\n",
       "  <tbody>\n",
       "    <tr>\n",
       "      <th>0</th>\n",
       "      <td>44294</td>\n",
       "      <td>Sporadic</td>\n",
       "      <td>50-59</td>\n",
       "      <td>Malvern</td>\n",
       "      <td>M1B</td>\n",
       "      <td>Institutional</td>\n",
       "      <td>CONFIRMED</td>\n",
       "      <td>2020-03-25</td>\n",
       "      <td>2020-03-27</td>\n",
       "      <td>MALE</td>\n",
       "      <td>RESOLVED</td>\n",
       "      <td>No</td>\n",
       "      <td>No</td>\n",
       "      <td>No</td>\n",
       "      <td>No</td>\n",
       "      <td>No</td>\n",
       "      <td>No</td>\n",
       "    </tr>\n",
       "    <tr>\n",
       "      <th>1</th>\n",
       "      <td>44295</td>\n",
       "      <td>Sporadic</td>\n",
       "      <td>20-29</td>\n",
       "      <td>Malvern</td>\n",
       "      <td>M1B</td>\n",
       "      <td>Community</td>\n",
       "      <td>CONFIRMED</td>\n",
       "      <td>2020-03-20</td>\n",
       "      <td>2020-03-28</td>\n",
       "      <td>MALE</td>\n",
       "      <td>RESOLVED</td>\n",
       "      <td>No</td>\n",
       "      <td>No</td>\n",
       "      <td>No</td>\n",
       "      <td>Yes</td>\n",
       "      <td>No</td>\n",
       "      <td>No</td>\n",
       "    </tr>\n",
       "    <tr>\n",
       "      <th>2</th>\n",
       "      <td>44296</td>\n",
       "      <td>Sporadic</td>\n",
       "      <td>60-69</td>\n",
       "      <td>Malvern</td>\n",
       "      <td>M1B</td>\n",
       "      <td>Travel</td>\n",
       "      <td>CONFIRMED</td>\n",
       "      <td>2020-03-04</td>\n",
       "      <td>2020-03-08</td>\n",
       "      <td>FEMALE</td>\n",
       "      <td>RESOLVED</td>\n",
       "      <td>No</td>\n",
       "      <td>No</td>\n",
       "      <td>No</td>\n",
       "      <td>Yes</td>\n",
       "      <td>Yes</td>\n",
       "      <td>Yes</td>\n",
       "    </tr>\n",
       "    <tr>\n",
       "      <th>3</th>\n",
       "      <td>44297</td>\n",
       "      <td>Outbreak Associated</td>\n",
       "      <td>50-59</td>\n",
       "      <td>Rouge</td>\n",
       "      <td>M1B</td>\n",
       "      <td>N/A - Outbreak associated</td>\n",
       "      <td>CONFIRMED</td>\n",
       "      <td>2020-05-02</td>\n",
       "      <td>2020-05-04</td>\n",
       "      <td>FEMALE</td>\n",
       "      <td>RESOLVED</td>\n",
       "      <td>No</td>\n",
       "      <td>No</td>\n",
       "      <td>No</td>\n",
       "      <td>No</td>\n",
       "      <td>No</td>\n",
       "      <td>No</td>\n",
       "    </tr>\n",
       "    <tr>\n",
       "      <th>4</th>\n",
       "      <td>44298</td>\n",
       "      <td>Sporadic</td>\n",
       "      <td>30-39</td>\n",
       "      <td>Rouge</td>\n",
       "      <td>M1B</td>\n",
       "      <td>Close contact</td>\n",
       "      <td>CONFIRMED</td>\n",
       "      <td>2020-05-31</td>\n",
       "      <td>2020-06-06</td>\n",
       "      <td>FEMALE</td>\n",
       "      <td>RESOLVED</td>\n",
       "      <td>No</td>\n",
       "      <td>No</td>\n",
       "      <td>No</td>\n",
       "      <td>No</td>\n",
       "      <td>No</td>\n",
       "      <td>No</td>\n",
       "    </tr>\n",
       "  </tbody>\n",
       "</table>\n",
       "</div>"
      ],
      "text/plain": [
       "     _id  Outbreak Associated Age Group Neighbourhood Name  FSA  \\\n",
       "0  44294             Sporadic     50-59            Malvern  M1B   \n",
       "1  44295             Sporadic     20-29            Malvern  M1B   \n",
       "2  44296             Sporadic     60-69            Malvern  M1B   \n",
       "3  44297  Outbreak Associated     50-59              Rouge  M1B   \n",
       "4  44298             Sporadic     30-39              Rouge  M1B   \n",
       "\n",
       "         Source of Infection Classification Episode Date Reported Date  \\\n",
       "0              Institutional      CONFIRMED   2020-03-25    2020-03-27   \n",
       "1                  Community      CONFIRMED   2020-03-20    2020-03-28   \n",
       "2                     Travel      CONFIRMED   2020-03-04    2020-03-08   \n",
       "3  N/A - Outbreak associated      CONFIRMED   2020-05-02    2020-05-04   \n",
       "4              Close contact      CONFIRMED   2020-05-31    2020-06-06   \n",
       "\n",
       "  Client Gender   Outcome Currently Hospitalized Currently in ICU  \\\n",
       "0          MALE  RESOLVED                     No               No   \n",
       "1          MALE  RESOLVED                     No               No   \n",
       "2        FEMALE  RESOLVED                     No               No   \n",
       "3        FEMALE  RESOLVED                     No               No   \n",
       "4        FEMALE  RESOLVED                     No               No   \n",
       "\n",
       "  Currently Intubated Ever Hospitalized Ever in ICU Ever Intubated  \n",
       "0                  No                No          No             No  \n",
       "1                  No               Yes          No             No  \n",
       "2                  No               Yes         Yes            Yes  \n",
       "3                  No                No          No             No  \n",
       "4                  No                No          No             No  "
      ]
     },
     "execution_count": 2,
     "metadata": {},
     "output_type": "execute_result"
    }
   ],
   "source": [
    "# Dados importados do Ministério da Saúde do Canadá:\n",
    "\n",
    "import pandas as pd\n",
    "\n",
    "dataset = pd.read_csv('COVID19 cases Toronto.csv')\n",
    "\n",
    "dataset.head()"
   ]
  },
  {
   "cell_type": "markdown",
   "id": "1bc1bef2",
   "metadata": {},
   "source": [
    "<b> 2.2 Descrição dos dados </b>"
   ]
  },
  {
   "cell_type": "markdown",
   "id": "bac0217a",
   "metadata": {},
   "source": [
    "<b> Colunas </b> \n",
    "\n",
    "* **ID**: ID do paciente \n",
    "<br>\n",
    "* **Outbreak Associated**: como o paciente foi contaminado\n",
    "<br>\n",
    "* **Age Group**: faixa etária do paciente\n",
    "<br>\n",
    "* **Neighbourhood Name**: bairro onde o paciente mora\n",
    "<br>\n",
    "* **FSA**: identificação postal do paciente\n",
    "<br>\n",
    "* **Source of Infection**: como o paciente foi infectado\n",
    "<br>\n",
    "* **Classification**: resultado de seu exame de COVID\n",
    "<br>\n",
    "* **Episode Date**: data da infecção\n",
    "<br>\n",
    "* **Reported Date**: data do diagnóstico\n",
    "<br>\n",
    "* **Client Gender**: gênero do paciente\n",
    "<br>\n",
    "* **Outcome**: situação do paciente\n",
    "<br>\n",
    "* **Currently Hospitalized**: se o paciente está hospitalizado\n",
    "<br>\n",
    "* **Currently in ICU**: se o paciente está em UTI\n",
    "<br>\n",
    "* **Currently Intubated**: se o paciente está entubado\n",
    "<br>\n",
    "* **Ever Hospitalized**: se o paciente já foi hospitalizado\n",
    "<br>\n",
    "* **Ever in ICU**: se o paciente já esteve em UTI\n",
    "<br>\n",
    "* **Ever Intubated**: se o paciente já foi entubado"
   ]
  },
  {
   "cell_type": "code",
   "execution_count": 43,
   "id": "634e5c14",
   "metadata": {},
   "outputs": [
    {
     "name": "stdout",
     "output_type": "stream",
     "text": [
      "<class 'pandas.core.frame.DataFrame'>\n",
      "RangeIndex: 14911 entries, 0 to 14910\n",
      "Data columns (total 17 columns):\n",
      " #   Column                  Non-Null Count  Dtype         \n",
      "---  ------                  --------------  -----         \n",
      " 0   _id                     14911 non-null  int64         \n",
      " 1   Outbreak Associated     14911 non-null  object        \n",
      " 2   Age Group               14879 non-null  object        \n",
      " 3   Neighbourhood Name      14298 non-null  object        \n",
      " 4   FSA                     14344 non-null  object        \n",
      " 5   Source of Infection     14911 non-null  object        \n",
      " 6   Classification          14911 non-null  object        \n",
      " 7   Episode Date            14911 non-null  datetime64[ns]\n",
      " 8   Reported Date           14911 non-null  datetime64[ns]\n",
      " 9   Client Gender           14911 non-null  object        \n",
      " 10  Outcome                 14911 non-null  object        \n",
      " 11  Currently Hospitalized  14911 non-null  int64         \n",
      " 12  Currently in ICU        14911 non-null  int64         \n",
      " 13  Currently Intubated     14911 non-null  int64         \n",
      " 14  Ever Hospitalized       14911 non-null  int64         \n",
      " 15  Ever in ICU             14911 non-null  int64         \n",
      " 16  Ever Intubated          14911 non-null  int64         \n",
      "dtypes: datetime64[ns](2), int64(7), object(8)\n",
      "memory usage: 1.5+ MB\n"
     ]
    },
    {
     "data": {
      "text/html": [
       "<div>\n",
       "<style scoped>\n",
       "    .dataframe tbody tr th:only-of-type {\n",
       "        vertical-align: middle;\n",
       "    }\n",
       "\n",
       "    .dataframe tbody tr th {\n",
       "        vertical-align: top;\n",
       "    }\n",
       "\n",
       "    .dataframe thead th {\n",
       "        text-align: right;\n",
       "    }\n",
       "</style>\n",
       "<table border=\"1\" class=\"dataframe\">\n",
       "  <thead>\n",
       "    <tr style=\"text-align: right;\">\n",
       "      <th></th>\n",
       "      <th>_id</th>\n",
       "      <th>Currently Hospitalized</th>\n",
       "      <th>Currently in ICU</th>\n",
       "      <th>Currently Intubated</th>\n",
       "      <th>Ever Hospitalized</th>\n",
       "      <th>Ever in ICU</th>\n",
       "      <th>Ever Intubated</th>\n",
       "    </tr>\n",
       "  </thead>\n",
       "  <tbody>\n",
       "    <tr>\n",
       "      <th>count</th>\n",
       "      <td>14911.000000</td>\n",
       "      <td>14911.000000</td>\n",
       "      <td>14911.000000</td>\n",
       "      <td>14911.000000</td>\n",
       "      <td>14911.000000</td>\n",
       "      <td>14911.000000</td>\n",
       "      <td>14911.000000</td>\n",
       "    </tr>\n",
       "    <tr>\n",
       "      <th>mean</th>\n",
       "      <td>51749.000000</td>\n",
       "      <td>0.989873</td>\n",
       "      <td>0.998055</td>\n",
       "      <td>0.998323</td>\n",
       "      <td>0.876065</td>\n",
       "      <td>0.973174</td>\n",
       "      <td>0.980752</td>\n",
       "    </tr>\n",
       "    <tr>\n",
       "      <th>std</th>\n",
       "      <td>4304.579267</td>\n",
       "      <td>0.100124</td>\n",
       "      <td>0.044059</td>\n",
       "      <td>0.040914</td>\n",
       "      <td>0.329519</td>\n",
       "      <td>0.161580</td>\n",
       "      <td>0.137398</td>\n",
       "    </tr>\n",
       "    <tr>\n",
       "      <th>min</th>\n",
       "      <td>44294.000000</td>\n",
       "      <td>0.000000</td>\n",
       "      <td>0.000000</td>\n",
       "      <td>0.000000</td>\n",
       "      <td>0.000000</td>\n",
       "      <td>0.000000</td>\n",
       "      <td>0.000000</td>\n",
       "    </tr>\n",
       "    <tr>\n",
       "      <th>25%</th>\n",
       "      <td>48021.500000</td>\n",
       "      <td>1.000000</td>\n",
       "      <td>1.000000</td>\n",
       "      <td>1.000000</td>\n",
       "      <td>1.000000</td>\n",
       "      <td>1.000000</td>\n",
       "      <td>1.000000</td>\n",
       "    </tr>\n",
       "    <tr>\n",
       "      <th>50%</th>\n",
       "      <td>51749.000000</td>\n",
       "      <td>1.000000</td>\n",
       "      <td>1.000000</td>\n",
       "      <td>1.000000</td>\n",
       "      <td>1.000000</td>\n",
       "      <td>1.000000</td>\n",
       "      <td>1.000000</td>\n",
       "    </tr>\n",
       "    <tr>\n",
       "      <th>75%</th>\n",
       "      <td>55476.500000</td>\n",
       "      <td>1.000000</td>\n",
       "      <td>1.000000</td>\n",
       "      <td>1.000000</td>\n",
       "      <td>1.000000</td>\n",
       "      <td>1.000000</td>\n",
       "      <td>1.000000</td>\n",
       "    </tr>\n",
       "    <tr>\n",
       "      <th>max</th>\n",
       "      <td>59204.000000</td>\n",
       "      <td>1.000000</td>\n",
       "      <td>1.000000</td>\n",
       "      <td>1.000000</td>\n",
       "      <td>1.000000</td>\n",
       "      <td>1.000000</td>\n",
       "      <td>1.000000</td>\n",
       "    </tr>\n",
       "  </tbody>\n",
       "</table>\n",
       "</div>"
      ],
      "text/plain": [
       "                _id  Currently Hospitalized  Currently in ICU  \\\n",
       "count  14911.000000            14911.000000      14911.000000   \n",
       "mean   51749.000000                0.989873          0.998055   \n",
       "std     4304.579267                0.100124          0.044059   \n",
       "min    44294.000000                0.000000          0.000000   \n",
       "25%    48021.500000                1.000000          1.000000   \n",
       "50%    51749.000000                1.000000          1.000000   \n",
       "75%    55476.500000                1.000000          1.000000   \n",
       "max    59204.000000                1.000000          1.000000   \n",
       "\n",
       "       Currently Intubated  Ever Hospitalized   Ever in ICU  Ever Intubated  \n",
       "count         14911.000000       14911.000000  14911.000000    14911.000000  \n",
       "mean              0.998323           0.876065      0.973174        0.980752  \n",
       "std               0.040914           0.329519      0.161580        0.137398  \n",
       "min               0.000000           0.000000      0.000000        0.000000  \n",
       "25%               1.000000           1.000000      1.000000        1.000000  \n",
       "50%               1.000000           1.000000      1.000000        1.000000  \n",
       "75%               1.000000           1.000000      1.000000        1.000000  \n",
       "max               1.000000           1.000000      1.000000        1.000000  "
      ]
     },
     "execution_count": 43,
     "metadata": {},
     "output_type": "execute_result"
    }
   ],
   "source": [
    "# coletando informações iniciais\n",
    "\n",
    "# verificando os tipos de dado em cada coluna do dataset e o número de ocorrências\n",
    "\n",
    "dataset.info()\n",
    "\n",
    "# verificando estatísticas em cada coluna\n",
    "\n",
    "dataset.describe()"
   ]
  },
  {
   "cell_type": "code",
   "execution_count": 42,
   "id": "45478f83",
   "metadata": {},
   "outputs": [
    {
     "name": "stderr",
     "output_type": "stream",
     "text": [
      "C:\\Users\\Edinilza\\AppData\\Local\\Temp\\ipykernel_9588\\2916062265.py:3: FutureWarning: Treating datetime data as categorical rather than numeric in `.describe` is deprecated and will be removed in a future version of pandas. Specify `datetime_is_numeric=True` to silence this warning and adopt the future behavior now.\n",
      "  dataset['Reported Date'].describe()\n"
     ]
    },
    {
     "data": {
      "text/plain": [
       "count                   14911\n",
       "unique                    142\n",
       "top       2020-05-29 00:00:00\n",
       "freq                      437\n",
       "first     2020-01-23 00:00:00\n",
       "last      2020-07-13 00:00:00\n",
       "Name: Reported Date, dtype: object"
      ]
     },
     "execution_count": 42,
     "metadata": {},
     "output_type": "execute_result"
    }
   ],
   "source": [
    "# verificando o período em os casos coletados ocorreram\n",
    "\n",
    "dataset['Reported Date'].describe()"
   ]
  },
  {
   "cell_type": "markdown",
   "id": "b38f8d7b",
   "metadata": {},
   "source": [
    "<b> Informações iniciais:\n",
    "\n",
    "* <b> 14911 pacientes serão analisados\n",
    "* <b> Os dados foram coletados entre janeiro e julho de 2020"
   ]
  },
  {
   "cell_type": "markdown",
   "id": "b594e965",
   "metadata": {},
   "source": [
    "<b> 3. Preparação dos dados </b>"
   ]
  },
  {
   "cell_type": "markdown",
   "id": "e3453025",
   "metadata": {},
   "source": [
    "<b> Os dados já estão ordenados por ID"
   ]
  },
  {
   "cell_type": "markdown",
   "id": "0d97cf00",
   "metadata": {},
   "source": [
    "<b> 3.1 Limpando os dados"
   ]
  },
  {
   "cell_type": "code",
   "execution_count": 56,
   "id": "72b60b10",
   "metadata": {},
   "outputs": [
    {
     "data": {
      "text/plain": [
       "_id                       0\n",
       "Outbreak Associated       0\n",
       "Age Group                 0\n",
       "Neighbourhood Name        0\n",
       "FSA                       0\n",
       "Source of Infection       0\n",
       "Classification            0\n",
       "Episode Date              0\n",
       "Reported Date             0\n",
       "Client Gender             0\n",
       "Outcome                   0\n",
       "Currently Hospitalized    0\n",
       "Currently in ICU          0\n",
       "Currently Intubated       0\n",
       "Ever Hospitalized         0\n",
       "Ever in ICU               0\n",
       "Ever Intubated            0\n",
       "dtype: int64"
      ]
     },
     "execution_count": 56,
     "metadata": {},
     "output_type": "execute_result"
    }
   ],
   "source": [
    "# verificando a quantidade de dados nulos em cada coluna\n",
    "\n",
    "dataset.isnull().sum()"
   ]
  },
  {
   "cell_type": "code",
   "execution_count": 51,
   "id": "a24cf0ec",
   "metadata": {},
   "outputs": [],
   "source": [
    "# susbtituindo dados nulos em \"Age Group\" pelo dado mais frequente\n",
    "\n",
    "dataset['Age Group'].fillna(dataset['Age Group'].value_counts().index[0], inplace=True)"
   ]
  },
  {
   "cell_type": "code",
   "execution_count": 53,
   "id": "760689ee",
   "metadata": {},
   "outputs": [],
   "source": [
    "# susbtituindo dados nulos em \"Neighbourhood Name\" por uma classe 'Unknown'\n",
    "\n",
    "dataset['Neighbourhood Name'].fillna('Unknown', inplace=True)"
   ]
  },
  {
   "cell_type": "code",
   "execution_count": 55,
   "id": "0effb334",
   "metadata": {},
   "outputs": [],
   "source": [
    "# susbtituindo dados nulos em \"FSA\" por uma classe 'Unknown'\n",
    "\n",
    "dataset['FSA'].fillna('Unknown', inplace=True)"
   ]
  },
  {
   "cell_type": "markdown",
   "id": "e1ff785c",
   "metadata": {},
   "source": [
    "<b> 3.2 Formatando os dados </b>"
   ]
  },
  {
   "cell_type": "code",
   "execution_count": 5,
   "id": "d4e8b849",
   "metadata": {},
   "outputs": [
    {
     "name": "stdout",
     "output_type": "stream",
     "text": [
      "<class 'pandas.core.frame.DataFrame'>\n",
      "RangeIndex: 14911 entries, 0 to 14910\n",
      "Data columns (total 17 columns):\n",
      " #   Column                  Non-Null Count  Dtype         \n",
      "---  ------                  --------------  -----         \n",
      " 0   _id                     14911 non-null  int64         \n",
      " 1   Outbreak Associated     14911 non-null  object        \n",
      " 2   Age Group               14879 non-null  object        \n",
      " 3   Neighbourhood Name      14298 non-null  object        \n",
      " 4   FSA                     14344 non-null  object        \n",
      " 5   Source of Infection     14911 non-null  object        \n",
      " 6   Classification          14911 non-null  object        \n",
      " 7   Episode Date            14911 non-null  datetime64[ns]\n",
      " 8   Reported Date           14911 non-null  datetime64[ns]\n",
      " 9   Client Gender           14911 non-null  object        \n",
      " 10  Outcome                 14911 non-null  object        \n",
      " 11  Currently Hospitalized  14911 non-null  int64         \n",
      " 12  Currently in ICU        14911 non-null  int64         \n",
      " 13  Currently Intubated     14911 non-null  int64         \n",
      " 14  Ever Hospitalized       14911 non-null  int64         \n",
      " 15  Ever in ICU             14911 non-null  int64         \n",
      " 16  Ever Intubated          14911 non-null  int64         \n",
      "dtypes: datetime64[ns](2), int64(7), object(8)\n",
      "memory usage: 1.5+ MB\n"
     ]
    }
   ],
   "source": [
    "# convertendo 'objects' em 'datetime' nas colunas de dados\n",
    "\n",
    "dataset['Episode Date'] = pd.to_datetime(dataset['Episode Date'])\n",
    "dataset['Reported Date'] = pd.to_datetime(dataset['Reported Date'])\n",
    "\n",
    "# substituindo os valores \"YES/NO\" por valores \"1/0\" (não são booleanos!)\n",
    "\n",
    "dataset.replace(['No', 'Yes'], [1, 0], inplace=True)\n",
    "\n",
    "# por que não usar o astype no lugar do replace?\n",
    "\n",
    "dataset.info()"
   ]
  },
  {
   "cell_type": "markdown",
   "id": "0d1b1307",
   "metadata": {},
   "source": [
    "<b> 4. Exploração dos dados"
   ]
  },
  {
   "cell_type": "code",
   "execution_count": 57,
   "id": "658a162f",
   "metadata": {},
   "outputs": [],
   "source": [
    "# verificando quantos dias o paciente levou para reportar o caso\n",
    "\n",
    "# usando dt.days"
   ]
  }
 ],
 "metadata": {
  "kernelspec": {
   "display_name": "Python 3 (ipykernel)",
   "language": "python",
   "name": "python3"
  },
  "language_info": {
   "codemirror_mode": {
    "name": "ipython",
    "version": 3
   },
   "file_extension": ".py",
   "mimetype": "text/x-python",
   "name": "python",
   "nbconvert_exporter": "python",
   "pygments_lexer": "ipython3",
   "version": "3.9.7"
  }
 },
 "nbformat": 4,
 "nbformat_minor": 5
}
