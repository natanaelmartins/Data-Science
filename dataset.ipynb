{
 "cells": [
  {
   "cell_type": "markdown",
   "id": "0844b553",
   "metadata": {},
   "source": [
    "## Análise de dados de COVID-19 em Toronto"
   ]
  },
  {
   "cell_type": "markdown",
   "id": "4ce6da8f",
   "metadata": {},
   "source": [
    "<b> Seguindo a metodologia CRISP-DM </b>"
   ]
  },
  {
   "cell_type": "markdown",
   "id": "97bf8b5d",
   "metadata": {},
   "source": [
    "<b> 1. Entendimento do negócio </b>"
   ]
  },
  {
   "cell_type": "markdown",
   "id": "cc2a3c23",
   "metadata": {},
   "source": [
    "O dataset traz informações sobre os casos de COVID registrados na cidade de Toronto, no Canadá. O objetivo desta análise é identificar padrões relacionados a infecção pelo vírus que podem ser úteis na prevenção de novos casos. Os dados analisados aqui foram retirados do Ministério da Saúde do Canadá"
   ]
  },
  {
   "cell_type": "markdown",
   "id": "828d57b4",
   "metadata": {},
   "source": [
    "<b> 2. Entendimento dos dados </b>"
   ]
  },
  {
   "cell_type": "markdown",
   "id": "a709b885",
   "metadata": {},
   "source": [
    "<b> 2.1 Coleta de dados </b>"
   ]
  },
  {
   "cell_type": "code",
   "execution_count": 11,
   "id": "26194022",
   "metadata": {},
   "outputs": [],
   "source": [
    "# importando bibliotecas\n",
    "\n",
    "import pandas as pd\n",
    "import random\n",
    "import seaborn as sns\n",
    "import matplotlib.pyplot as plt"
   ]
  },
  {
   "cell_type": "code",
   "execution_count": 12,
   "id": "736b39d8",
   "metadata": {},
   "outputs": [
    {
     "data": {
      "text/html": [
       "<div>\n",
       "<style scoped>\n",
       "    .dataframe tbody tr th:only-of-type {\n",
       "        vertical-align: middle;\n",
       "    }\n",
       "\n",
       "    .dataframe tbody tr th {\n",
       "        vertical-align: top;\n",
       "    }\n",
       "\n",
       "    .dataframe thead th {\n",
       "        text-align: right;\n",
       "    }\n",
       "</style>\n",
       "<table border=\"1\" class=\"dataframe\">\n",
       "  <thead>\n",
       "    <tr style=\"text-align: right;\">\n",
       "      <th></th>\n",
       "      <th>_id</th>\n",
       "      <th>Outbreak Associated</th>\n",
       "      <th>Age Group</th>\n",
       "      <th>Neighbourhood Name</th>\n",
       "      <th>FSA</th>\n",
       "      <th>Source of Infection</th>\n",
       "      <th>Classification</th>\n",
       "      <th>Episode Date</th>\n",
       "      <th>Reported Date</th>\n",
       "      <th>Client Gender</th>\n",
       "      <th>Outcome</th>\n",
       "      <th>Currently Hospitalized</th>\n",
       "      <th>Currently in ICU</th>\n",
       "      <th>Currently Intubated</th>\n",
       "      <th>Ever Hospitalized</th>\n",
       "      <th>Ever in ICU</th>\n",
       "      <th>Ever Intubated</th>\n",
       "    </tr>\n",
       "  </thead>\n",
       "  <tbody>\n",
       "    <tr>\n",
       "      <th>0</th>\n",
       "      <td>44294</td>\n",
       "      <td>Sporadic</td>\n",
       "      <td>50-59</td>\n",
       "      <td>Malvern</td>\n",
       "      <td>M1B</td>\n",
       "      <td>Institutional</td>\n",
       "      <td>CONFIRMED</td>\n",
       "      <td>2020-03-25</td>\n",
       "      <td>2020-03-27</td>\n",
       "      <td>MALE</td>\n",
       "      <td>RESOLVED</td>\n",
       "      <td>No</td>\n",
       "      <td>No</td>\n",
       "      <td>No</td>\n",
       "      <td>No</td>\n",
       "      <td>No</td>\n",
       "      <td>No</td>\n",
       "    </tr>\n",
       "    <tr>\n",
       "      <th>1</th>\n",
       "      <td>44295</td>\n",
       "      <td>Sporadic</td>\n",
       "      <td>20-29</td>\n",
       "      <td>Malvern</td>\n",
       "      <td>M1B</td>\n",
       "      <td>Community</td>\n",
       "      <td>CONFIRMED</td>\n",
       "      <td>2020-03-20</td>\n",
       "      <td>2020-03-28</td>\n",
       "      <td>MALE</td>\n",
       "      <td>RESOLVED</td>\n",
       "      <td>No</td>\n",
       "      <td>No</td>\n",
       "      <td>No</td>\n",
       "      <td>Yes</td>\n",
       "      <td>No</td>\n",
       "      <td>No</td>\n",
       "    </tr>\n",
       "    <tr>\n",
       "      <th>2</th>\n",
       "      <td>44296</td>\n",
       "      <td>Sporadic</td>\n",
       "      <td>60-69</td>\n",
       "      <td>Malvern</td>\n",
       "      <td>M1B</td>\n",
       "      <td>Travel</td>\n",
       "      <td>CONFIRMED</td>\n",
       "      <td>2020-03-04</td>\n",
       "      <td>2020-03-08</td>\n",
       "      <td>FEMALE</td>\n",
       "      <td>RESOLVED</td>\n",
       "      <td>No</td>\n",
       "      <td>No</td>\n",
       "      <td>No</td>\n",
       "      <td>Yes</td>\n",
       "      <td>Yes</td>\n",
       "      <td>Yes</td>\n",
       "    </tr>\n",
       "    <tr>\n",
       "      <th>3</th>\n",
       "      <td>44297</td>\n",
       "      <td>Outbreak Associated</td>\n",
       "      <td>50-59</td>\n",
       "      <td>Rouge</td>\n",
       "      <td>M1B</td>\n",
       "      <td>N/A - Outbreak associated</td>\n",
       "      <td>CONFIRMED</td>\n",
       "      <td>2020-05-02</td>\n",
       "      <td>2020-05-04</td>\n",
       "      <td>FEMALE</td>\n",
       "      <td>RESOLVED</td>\n",
       "      <td>No</td>\n",
       "      <td>No</td>\n",
       "      <td>No</td>\n",
       "      <td>No</td>\n",
       "      <td>No</td>\n",
       "      <td>No</td>\n",
       "    </tr>\n",
       "    <tr>\n",
       "      <th>4</th>\n",
       "      <td>44298</td>\n",
       "      <td>Sporadic</td>\n",
       "      <td>30-39</td>\n",
       "      <td>Rouge</td>\n",
       "      <td>M1B</td>\n",
       "      <td>Close contact</td>\n",
       "      <td>CONFIRMED</td>\n",
       "      <td>2020-05-31</td>\n",
       "      <td>2020-06-06</td>\n",
       "      <td>FEMALE</td>\n",
       "      <td>RESOLVED</td>\n",
       "      <td>No</td>\n",
       "      <td>No</td>\n",
       "      <td>No</td>\n",
       "      <td>No</td>\n",
       "      <td>No</td>\n",
       "      <td>No</td>\n",
       "    </tr>\n",
       "  </tbody>\n",
       "</table>\n",
       "</div>"
      ],
      "text/plain": [
       "     _id  Outbreak Associated Age Group Neighbourhood Name  FSA  \\\n",
       "0  44294             Sporadic     50-59            Malvern  M1B   \n",
       "1  44295             Sporadic     20-29            Malvern  M1B   \n",
       "2  44296             Sporadic     60-69            Malvern  M1B   \n",
       "3  44297  Outbreak Associated     50-59              Rouge  M1B   \n",
       "4  44298             Sporadic     30-39              Rouge  M1B   \n",
       "\n",
       "         Source of Infection Classification Episode Date Reported Date  \\\n",
       "0              Institutional      CONFIRMED   2020-03-25    2020-03-27   \n",
       "1                  Community      CONFIRMED   2020-03-20    2020-03-28   \n",
       "2                     Travel      CONFIRMED   2020-03-04    2020-03-08   \n",
       "3  N/A - Outbreak associated      CONFIRMED   2020-05-02    2020-05-04   \n",
       "4              Close contact      CONFIRMED   2020-05-31    2020-06-06   \n",
       "\n",
       "  Client Gender   Outcome Currently Hospitalized Currently in ICU  \\\n",
       "0          MALE  RESOLVED                     No               No   \n",
       "1          MALE  RESOLVED                     No               No   \n",
       "2        FEMALE  RESOLVED                     No               No   \n",
       "3        FEMALE  RESOLVED                     No               No   \n",
       "4        FEMALE  RESOLVED                     No               No   \n",
       "\n",
       "  Currently Intubated Ever Hospitalized Ever in ICU Ever Intubated  \n",
       "0                  No                No          No             No  \n",
       "1                  No               Yes          No             No  \n",
       "2                  No               Yes         Yes            Yes  \n",
       "3                  No                No          No             No  \n",
       "4                  No                No          No             No  "
      ]
     },
     "execution_count": 12,
     "metadata": {},
     "output_type": "execute_result"
    }
   ],
   "source": [
    "# Dados importados do Ministério da Saúde do Canadá:\n",
    "\n",
    "dataset = pd.read_csv('COVID19 cases Toronto.csv')\n",
    "\n",
    "dataset.head()"
   ]
  },
  {
   "cell_type": "markdown",
   "id": "1bc1bef2",
   "metadata": {},
   "source": [
    "<b> 2.2 Descrição dos dados </b>"
   ]
  },
  {
   "cell_type": "markdown",
   "id": "bac0217a",
   "metadata": {},
   "source": [
    "<b> Colunas </b> \n",
    "\n",
    "* **ID**: ID do paciente \n",
    "<br>\n",
    "* **Outbreak Associated**: como o paciente foi contaminado\n",
    "<br>\n",
    "* **Age Group**: faixa etária do paciente\n",
    "<br>\n",
    "* **Neighbourhood Name**: bairro onde o paciente mora\n",
    "<br>\n",
    "* **FSA**: identificação postal do paciente\n",
    "<br>\n",
    "* **Source of Infection**: como o paciente foi infectado\n",
    "<br>\n",
    "* **Classification**: resultado de seu exame de COVID\n",
    "<br>\n",
    "* **Episode Date**: data da infecção\n",
    "<br>\n",
    "* **Reported Date**: data do diagnóstico\n",
    "<br>\n",
    "* **Client Gender**: gênero do paciente\n",
    "<br>\n",
    "* **Outcome**: situação do paciente\n",
    "<br>\n",
    "* **Currently Hospitalized**: se o paciente está hospitalizado (1 -- NO/0 -- YES)\n",
    "<br>\n",
    "* **Currently in ICU**: se o paciente está em UTI \n",
    "<br>\n",
    "* **Currently Intubated**: se o paciente está entubado \n",
    "<br>\n",
    "* **Ever Hospitalized**: se o paciente já foi hospitalizado \n",
    "<br>\n",
    "* **Ever in ICU**: se o paciente já esteve em UTI\n",
    "<br>\n",
    "* **Ever Intubated**: se o paciente já foi entubado"
   ]
  },
  {
   "cell_type": "code",
   "execution_count": 52,
   "id": "634e5c14",
   "metadata": {},
   "outputs": [
    {
     "name": "stdout",
     "output_type": "stream",
     "text": [
      "<class 'pandas.core.frame.DataFrame'>\n",
      "RangeIndex: 14911 entries, 0 to 14910\n",
      "Data columns (total 19 columns):\n",
      " #   Column                    Non-Null Count  Dtype         \n",
      "---  ------                    --------------  -----         \n",
      " 0   _id                       14911 non-null  int64         \n",
      " 1   Outbreak Associated       14911 non-null  object        \n",
      " 2   Age Group                 14911 non-null  object        \n",
      " 3   Neighbourhood Name        14911 non-null  object        \n",
      " 4   FSA                       14911 non-null  object        \n",
      " 5   Source of Infection       14911 non-null  object        \n",
      " 6   Classification            14911 non-null  object        \n",
      " 7   Episode Date              14911 non-null  datetime64[ns]\n",
      " 8   Reported Date             14911 non-null  datetime64[ns]\n",
      " 9   Client Gender             14911 non-null  object        \n",
      " 10  Outcome                   14911 non-null  object        \n",
      " 11  Currently Hospitalized    14911 non-null  int64         \n",
      " 12  Currently in ICU          14911 non-null  int64         \n",
      " 13  Currently Intubated       14911 non-null  int64         \n",
      " 14  Ever Hospitalized         14911 non-null  int64         \n",
      " 15  Ever in ICU               14911 non-null  int64         \n",
      " 16  Ever Intubated            14911 non-null  int64         \n",
      " 17  dias sem reportar o caso  14911 non-null  int64         \n",
      " 18  AGM                       14904 non-null  object        \n",
      "dtypes: datetime64[ns](2), int64(8), object(9)\n",
      "memory usage: 1.6+ MB\n"
     ]
    },
    {
     "data": {
      "text/html": [
       "<div>\n",
       "<style scoped>\n",
       "    .dataframe tbody tr th:only-of-type {\n",
       "        vertical-align: middle;\n",
       "    }\n",
       "\n",
       "    .dataframe tbody tr th {\n",
       "        vertical-align: top;\n",
       "    }\n",
       "\n",
       "    .dataframe thead th {\n",
       "        text-align: right;\n",
       "    }\n",
       "</style>\n",
       "<table border=\"1\" class=\"dataframe\">\n",
       "  <thead>\n",
       "    <tr style=\"text-align: right;\">\n",
       "      <th></th>\n",
       "      <th>_id</th>\n",
       "      <th>Currently Hospitalized</th>\n",
       "      <th>Currently in ICU</th>\n",
       "      <th>Currently Intubated</th>\n",
       "      <th>Ever Hospitalized</th>\n",
       "      <th>Ever in ICU</th>\n",
       "      <th>Ever Intubated</th>\n",
       "      <th>dias sem reportar o caso</th>\n",
       "    </tr>\n",
       "  </thead>\n",
       "  <tbody>\n",
       "    <tr>\n",
       "      <th>count</th>\n",
       "      <td>14911.000000</td>\n",
       "      <td>14911.000000</td>\n",
       "      <td>14911.000000</td>\n",
       "      <td>14911.000000</td>\n",
       "      <td>14911.000000</td>\n",
       "      <td>14911.000000</td>\n",
       "      <td>14911.000000</td>\n",
       "      <td>14911.000000</td>\n",
       "    </tr>\n",
       "    <tr>\n",
       "      <th>mean</th>\n",
       "      <td>51749.000000</td>\n",
       "      <td>0.989873</td>\n",
       "      <td>0.998055</td>\n",
       "      <td>0.998323</td>\n",
       "      <td>0.876065</td>\n",
       "      <td>0.973174</td>\n",
       "      <td>0.980752</td>\n",
       "      <td>5.878680</td>\n",
       "    </tr>\n",
       "    <tr>\n",
       "      <th>std</th>\n",
       "      <td>4304.579267</td>\n",
       "      <td>0.100124</td>\n",
       "      <td>0.044059</td>\n",
       "      <td>0.040914</td>\n",
       "      <td>0.329519</td>\n",
       "      <td>0.161580</td>\n",
       "      <td>0.137398</td>\n",
       "      <td>8.636638</td>\n",
       "    </tr>\n",
       "    <tr>\n",
       "      <th>min</th>\n",
       "      <td>44294.000000</td>\n",
       "      <td>0.000000</td>\n",
       "      <td>0.000000</td>\n",
       "      <td>0.000000</td>\n",
       "      <td>0.000000</td>\n",
       "      <td>0.000000</td>\n",
       "      <td>0.000000</td>\n",
       "      <td>-71.000000</td>\n",
       "    </tr>\n",
       "    <tr>\n",
       "      <th>25%</th>\n",
       "      <td>48021.500000</td>\n",
       "      <td>1.000000</td>\n",
       "      <td>1.000000</td>\n",
       "      <td>1.000000</td>\n",
       "      <td>1.000000</td>\n",
       "      <td>1.000000</td>\n",
       "      <td>1.000000</td>\n",
       "      <td>2.000000</td>\n",
       "    </tr>\n",
       "    <tr>\n",
       "      <th>50%</th>\n",
       "      <td>51749.000000</td>\n",
       "      <td>1.000000</td>\n",
       "      <td>1.000000</td>\n",
       "      <td>1.000000</td>\n",
       "      <td>1.000000</td>\n",
       "      <td>1.000000</td>\n",
       "      <td>1.000000</td>\n",
       "      <td>3.000000</td>\n",
       "    </tr>\n",
       "    <tr>\n",
       "      <th>75%</th>\n",
       "      <td>55476.500000</td>\n",
       "      <td>1.000000</td>\n",
       "      <td>1.000000</td>\n",
       "      <td>1.000000</td>\n",
       "      <td>1.000000</td>\n",
       "      <td>1.000000</td>\n",
       "      <td>1.000000</td>\n",
       "      <td>7.000000</td>\n",
       "    </tr>\n",
       "    <tr>\n",
       "      <th>max</th>\n",
       "      <td>59204.000000</td>\n",
       "      <td>1.000000</td>\n",
       "      <td>1.000000</td>\n",
       "      <td>1.000000</td>\n",
       "      <td>1.000000</td>\n",
       "      <td>1.000000</td>\n",
       "      <td>1.000000</td>\n",
       "      <td>114.000000</td>\n",
       "    </tr>\n",
       "  </tbody>\n",
       "</table>\n",
       "</div>"
      ],
      "text/plain": [
       "                _id  Currently Hospitalized  Currently in ICU  \\\n",
       "count  14911.000000            14911.000000      14911.000000   \n",
       "mean   51749.000000                0.989873          0.998055   \n",
       "std     4304.579267                0.100124          0.044059   \n",
       "min    44294.000000                0.000000          0.000000   \n",
       "25%    48021.500000                1.000000          1.000000   \n",
       "50%    51749.000000                1.000000          1.000000   \n",
       "75%    55476.500000                1.000000          1.000000   \n",
       "max    59204.000000                1.000000          1.000000   \n",
       "\n",
       "       Currently Intubated  Ever Hospitalized   Ever in ICU  Ever Intubated  \\\n",
       "count         14911.000000       14911.000000  14911.000000    14911.000000   \n",
       "mean              0.998323           0.876065      0.973174        0.980752   \n",
       "std               0.040914           0.329519      0.161580        0.137398   \n",
       "min               0.000000           0.000000      0.000000        0.000000   \n",
       "25%               1.000000           1.000000      1.000000        1.000000   \n",
       "50%               1.000000           1.000000      1.000000        1.000000   \n",
       "75%               1.000000           1.000000      1.000000        1.000000   \n",
       "max               1.000000           1.000000      1.000000        1.000000   \n",
       "\n",
       "       dias sem reportar o caso  \n",
       "count              14911.000000  \n",
       "mean                   5.878680  \n",
       "std                    8.636638  \n",
       "min                  -71.000000  \n",
       "25%                    2.000000  \n",
       "50%                    3.000000  \n",
       "75%                    7.000000  \n",
       "max                  114.000000  "
      ]
     },
     "execution_count": 52,
     "metadata": {},
     "output_type": "execute_result"
    }
   ],
   "source": [
    "# coletando informações iniciais\n",
    "\n",
    "# verificando os tipos de dado em cada coluna do dataset e o número de ocorrências\n",
    "\n",
    "dataset.info()\n",
    "\n",
    "# verificando estatísticas em cada coluna\n",
    "\n",
    "dataset.describe()"
   ]
  },
  {
   "cell_type": "code",
   "execution_count": 14,
   "id": "45478f83",
   "metadata": {},
   "outputs": [
    {
     "data": {
      "text/plain": [
       "count          14911\n",
       "unique           142\n",
       "top       2020-05-29\n",
       "freq             437\n",
       "Name: Reported Date, dtype: object"
      ]
     },
     "execution_count": 14,
     "metadata": {},
     "output_type": "execute_result"
    }
   ],
   "source": [
    "# verificando o período em os casos coletados ocorreram\n",
    "\n",
    "dataset['Reported Date'].describe()"
   ]
  },
  {
   "cell_type": "markdown",
   "id": "b38f8d7b",
   "metadata": {},
   "source": [
    "<b> Informações iniciais:\n",
    "\n",
    "* <b> 14911 pacientes serão analisados\n",
    "* <b> Os dados foram coletados entre janeiro e julho de 2020"
   ]
  },
  {
   "cell_type": "markdown",
   "id": "b594e965",
   "metadata": {},
   "source": [
    "<b> 3. Preparação dos dados </b>"
   ]
  },
  {
   "cell_type": "markdown",
   "id": "e3453025",
   "metadata": {},
   "source": [
    "<b> Os dados já estão ordenados por ID"
   ]
  },
  {
   "cell_type": "markdown",
   "id": "0d97cf00",
   "metadata": {},
   "source": [
    "<b> 3.1 Limpando os dados"
   ]
  },
  {
   "cell_type": "code",
   "execution_count": 15,
   "id": "72b60b10",
   "metadata": {},
   "outputs": [
    {
     "data": {
      "text/plain": [
       "_id                         0\n",
       "Outbreak Associated         0\n",
       "Age Group                  32\n",
       "Neighbourhood Name        613\n",
       "FSA                       567\n",
       "Source of Infection         0\n",
       "Classification              0\n",
       "Episode Date                0\n",
       "Reported Date               0\n",
       "Client Gender               0\n",
       "Outcome                     0\n",
       "Currently Hospitalized      0\n",
       "Currently in ICU            0\n",
       "Currently Intubated         0\n",
       "Ever Hospitalized           0\n",
       "Ever in ICU                 0\n",
       "Ever Intubated              0\n",
       "dtype: int64"
      ]
     },
     "execution_count": 15,
     "metadata": {},
     "output_type": "execute_result"
    }
   ],
   "source": [
    "# verificando a quantidade de dados nulos em cada coluna\n",
    "\n",
    "dataset.isnull().sum()"
   ]
  },
  {
   "cell_type": "code",
   "execution_count": 45,
   "id": "5e2d3018",
   "metadata": {},
   "outputs": [],
   "source": [
    "# trocando para facilitar a visualização\n",
    "\n",
    "dataset['Age Group'].replace('19 and younger', '19-', inplace=True)"
   ]
  },
  {
   "cell_type": "code",
   "execution_count": 16,
   "id": "a24cf0ec",
   "metadata": {},
   "outputs": [],
   "source": [
    "# susbtituindo dados nulos em \"Age Group\" pelo dado mais frequente\n",
    "\n",
    "dataset['Age Group'].fillna(dataset['Age Group'].value_counts().index[0], inplace=True)"
   ]
  },
  {
   "cell_type": "code",
   "execution_count": 17,
   "id": "760689ee",
   "metadata": {},
   "outputs": [],
   "source": [
    "# susbtituindo dados nulos em \"Neighbourhood Name\" pelo atributo 'Unknown'\n",
    "\n",
    "dataset['Neighbourhood Name'].fillna('Unknown', inplace=True)"
   ]
  },
  {
   "cell_type": "code",
   "execution_count": 39,
   "id": "0effb334",
   "metadata": {},
   "outputs": [],
   "source": [
    "# susbtituindo dados nulos em \"FSA\" pelo atributo 'Unknown'\n",
    "\n",
    "dataset['FSA'].fillna('Unknown', inplace=True)"
   ]
  },
  {
   "cell_type": "code",
   "execution_count": 41,
   "id": "6a151630",
   "metadata": {},
   "outputs": [
    {
     "data": {
      "text/plain": [
       "FEMALE         7909\n",
       "MALE           6747\n",
       "OTHER           248\n",
       "TRANSGENDER       7\n",
       "Name: Client Gender, dtype: int64"
      ]
     },
     "execution_count": 41,
     "metadata": {},
     "output_type": "execute_result"
    }
   ],
   "source": [
    "# substituindo os dados nulos de \"Client Gender\"  por 'OTHER'\n",
    "\n",
    "dataset['Client Gender'].replace('UNKNOWN', 'OTHER', inplace=True)\n",
    "\n",
    "dataset['Client Gender'].value_counts()"
   ]
  },
  {
   "cell_type": "markdown",
   "id": "e1ff785c",
   "metadata": {},
   "source": [
    "<b> 3.2 Formatando os dados </b>"
   ]
  },
  {
   "cell_type": "code",
   "execution_count": 20,
   "id": "d4e8b849",
   "metadata": {},
   "outputs": [
    {
     "name": "stdout",
     "output_type": "stream",
     "text": [
      "<class 'pandas.core.frame.DataFrame'>\n",
      "RangeIndex: 14911 entries, 0 to 14910\n",
      "Data columns (total 17 columns):\n",
      " #   Column                  Non-Null Count  Dtype         \n",
      "---  ------                  --------------  -----         \n",
      " 0   _id                     14911 non-null  int64         \n",
      " 1   Outbreak Associated     14911 non-null  object        \n",
      " 2   Age Group               14911 non-null  object        \n",
      " 3   Neighbourhood Name      14911 non-null  object        \n",
      " 4   FSA                     14911 non-null  object        \n",
      " 5   Source of Infection     14911 non-null  object        \n",
      " 6   Classification          14911 non-null  object        \n",
      " 7   Episode Date            14911 non-null  datetime64[ns]\n",
      " 8   Reported Date           14911 non-null  datetime64[ns]\n",
      " 9   Client Gender           14911 non-null  object        \n",
      " 10  Outcome                 14911 non-null  object        \n",
      " 11  Currently Hospitalized  14911 non-null  int64         \n",
      " 12  Currently in ICU        14911 non-null  int64         \n",
      " 13  Currently Intubated     14911 non-null  int64         \n",
      " 14  Ever Hospitalized       14911 non-null  int64         \n",
      " 15  Ever in ICU             14911 non-null  int64         \n",
      " 16  Ever Intubated          14911 non-null  int64         \n",
      "dtypes: datetime64[ns](2), int64(7), object(8)\n",
      "memory usage: 1.5+ MB\n"
     ]
    }
   ],
   "source": [
    "# convertendo 'objects' em 'datetime' nas colunas de dados\n",
    "\n",
    "dataset['Episode Date'] = pd.to_datetime(dataset['Episode Date'])\n",
    "dataset['Reported Date'] = pd.to_datetime(dataset['Reported Date'])\n",
    "\n",
    "# substituindo os valores \"YES/NO\" por valores \"1/0\" (não são booleanos!)\n",
    "\n",
    "dataset.replace(['No', 'Yes'], [1, 0], inplace=True)\n",
    "\n",
    "# por que não usar o astype no lugar do replace?\n",
    "\n",
    "dataset.info()"
   ]
  },
  {
   "cell_type": "markdown",
   "id": "0d1b1307",
   "metadata": {},
   "source": [
    "<b> 4. Exploração dos dados"
   ]
  },
  {
   "cell_type": "code",
   "execution_count": 21,
   "id": "658a162f",
   "metadata": {},
   "outputs": [
    {
     "data": {
      "text/plain": [
       "5.87868016900275"
      ]
     },
     "execution_count": 21,
     "metadata": {},
     "output_type": "execute_result"
    }
   ],
   "source": [
    "# verificando quantos dias o paciente levou para reportar o caso\n",
    "\n",
    "dataset['dias sem reportar o caso'] = (dataset['Reported Date'] - dataset['Episode Date']).dt.days\n",
    "\n",
    "dataset['dias sem reportar o caso'].value_counts()\n",
    "\n",
    "dataset.index[dataset['dias sem reportar o caso'] < 0]\n",
    "\n",
    "# existem 451 pacientes com datas estranhas. seriam casos de infecção posterior?\n",
    "\n",
    "# se forem resultados válidos, dá pra fazer correlações legais\n",
    "\n",
    "\n",
    "# média dos dias (sem os valores negativos estranhos)\n",
    "\n",
    "negativos = dataset.index[dataset['dias sem reportar o caso'] < 0]\n",
    "\n",
    "dataset['dias sem reportar o caso'].drop(negativos)\n",
    "\n",
    "dataset['dias sem reportar o caso'].mean()"
   ]
  },
  {
   "cell_type": "code",
   "execution_count": 22,
   "id": "663c002e",
   "metadata": {},
   "outputs": [
    {
     "data": {
      "text/plain": [
       "50-59             2386\n",
       "20-29             2135\n",
       "30-39             2101\n",
       "40-49             2095\n",
       "60-69             1598\n",
       "80-89             1531\n",
       "90+               1098\n",
       "70-79             1052\n",
       "19 and younger     915\n",
       "Name: Age Group, dtype: int64"
      ]
     },
     "execution_count": 22,
     "metadata": {},
     "output_type": "execute_result"
    }
   ],
   "source": [
    "# verificando qual gênero e faixa etária foram mais afetados\n",
    "\n",
    "dataset['Client Gender'].value_counts()\n",
    "dataset['Age Group'].value_counts()\n",
    "\n",
    "# a maioria dos casos foram em mulheres\n",
    "\n",
    "# a faixa etária mais atingida foi a de entre 50-59 anos\n",
    "\n",
    "# agora vou tentar verificar a faixa etária mais atingida entre homens e mulheres"
   ]
  },
  {
   "cell_type": "code",
   "execution_count": 23,
   "id": "94438c9f",
   "metadata": {},
   "outputs": [],
   "source": [
    "# o objetivo aqui será filtrar da coluna Age Group os valores para homens e mulheres\n",
    "\n",
    "# verificando os index de cada categoria (depois veja como simplificar o código)\n",
    "\n",
    "homens = dataset.index[dataset['Client Gender'] == 'MALE' ]\n",
    "mulheres = dataset.index[dataset['Client Gender'] == 'FEMALE' ]\n",
    "unknown  = dataset.index[dataset['Client Gender'] == 'UNKNOWN' ]\n",
    "transgender= dataset.index[dataset['Client Gender'] == 'TRANSGENDER' ]\n",
    "\n",
    "# filtrando os valores das mulheres (verifique como usar múltiplos argumentos do drop)\n",
    "\n",
    "AgeGroupFemale = dataset['Age Group'].drop(homens)\n",
    "AgeGroupFemale = dataset['Age Group'].drop(unknown)\n",
    "AgeGroupFemale = dataset['Age Group'].drop(transgender)\n",
    "\n",
    "# filtrando os valores dos homens\n",
    "\n",
    "AgeGroupMale = dataset['Age Group'].drop(mulheres)\n",
    "AgeGroupMale = dataset['Age Group'].drop(unknown)\n",
    "AgeGroupMale = dataset['Age Group'].drop(transgender)"
   ]
  },
  {
   "cell_type": "code",
   "execution_count": 24,
   "id": "750f0b32",
   "metadata": {},
   "outputs": [
    {
     "data": {
      "text/plain": [
       "50-59             2386\n",
       "20-29             2134\n",
       "30-39             2098\n",
       "40-49             2094\n",
       "60-69             1597\n",
       "80-89             1530\n",
       "90+               1098\n",
       "70-79             1052\n",
       "19 and younger     915\n",
       "Name: Age Group, dtype: int64"
      ]
     },
     "execution_count": 24,
     "metadata": {},
     "output_type": "execute_result"
    }
   ],
   "source": [
    "AgeGroupFemale.value_counts()\n",
    "AgeGroupMale.value_counts()"
   ]
  },
  {
   "cell_type": "markdown",
   "id": "4b00e018",
   "metadata": {},
   "source": [
    "* <b> Os pacientes demoram em média 6 dias para procurar atendimento após o contágio\n",
    "* <b> A maioria dos pacientes homens e mulheres estão entre os 50-59 anos"
   ]
  },
  {
   "cell_type": "markdown",
   "id": "7f8c090a",
   "metadata": {},
   "source": [
    "<b> 5. Visualização dos dados"
   ]
  },
  {
   "cell_type": "code",
   "execution_count": 38,
   "id": "d3e8fe1c",
   "metadata": {},
   "outputs": [
    {
     "data": {
      "text/plain": [
       "<seaborn.axisgrid.FacetGrid at 0x15e33d00>"
      ]
     },
     "execution_count": 38,
     "metadata": {},
     "output_type": "execute_result"
    },
    {
     "data": {
      "image/png": "[encoded data removed]",
      "text/plain": [
       "<Figure size 360x360 with 1 Axes>"
      ]
     },
     "metadata": {
      "needs_background": "light"
     },
     "output_type": "display_data"
    }
   ],
   "source": [
    "# visualizando o gênero dos pacientes\n",
    "\n",
    "sns.catplot(x='Client Gender', kind='count', palette='Set2', data=dataset)"
   ]
  },
  {
   "cell_type": "code",
   "execution_count": 49,
   "id": "d46e06b8",
   "metadata": {},
   "outputs": [
    {
     "data": {
      "text/plain": [
       "<seaborn.axisgrid.FacetGrid at 0x163d96b8>"
      ]
     },
     "execution_count": 49,
     "metadata": {},
     "output_type": "execute_result"
    },
    {
     "data": {
      "image/png": "[encoded data removed]",
      "text/plain": [
       "<Figure size 360x360 with 1 Axes>"
      ]
     },
     "metadata": {
      "needs_background": "light"
     },
     "output_type": "display_data"
    }
   ],
   "source": [
    "# visualizando a faixa etária dos pacientes\n",
    "\n",
    "sns.catplot(x='Age Group', kind='count', palette='Set2', data=dataset)"
   ]
  }
 ],
 "metadata": {
  "kernelspec": {
   "display_name": "Python 3 (ipykernel)",
   "language": "python",
   "name": "python3"
  },
  "language_info": {
   "codemirror_mode": {
    "name": "ipython",
    "version": 3
   },
   "file_extension": ".py",
   "mimetype": "text/x-python",
   "name": "python",
   "nbconvert_exporter": "python",
   "pygments_lexer": "ipython3",
   "version": "3.9.7"
  }
 },
 "nbformat": 4,
 "nbformat_minor": 5
}
